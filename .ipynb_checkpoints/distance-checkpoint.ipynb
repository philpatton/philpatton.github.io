{
 "cells": [
  {
   "cell_type": "raw",
   "metadata": {},
   "source": [
    "---\n",
    "title: Distance sampling\n",
    "description: Distance sampling models using data augmentation\n",
    "author:\n",
    "  name: Philip T. Patton\n",
    "  affiliation:\n",
    "    - Marine Mammal Research Program\n",
    "    - Hawaiʻi Institute of Marine Biology\n",
    "date: today\n",
    "bibliography: refs.bib\n",
    "---"
   ]
  },
  {
   "cell_type": "markdown",
   "metadata": {},
   "source": [
    "In this notebook, I explore how to fit distance sampling models for estimating the size of a closed population. Similar to the occupancy and closed capture-recapture notebooks, I use parameter-expanded data-augmentation (PX-DA) and the zero-inflated binomial model in this notebook.\n",
    "\n",
    "The idea with distance sampling, also known as line-transect sampling, is that a surveyer traverses a transect, typically in a boat or a plane. As they survey, they note when they detect an individual, or a group, from the species of interest, and further note the distance from the transect to the animal. Further, they note the angle to the animal(s), such that they can calculate the perpendicular distance from the animal to the transect. We assume that probability of detecting an animal $p$ decreases monotonically as the distance from the transect grows, e.g., $p=\\exp(-x^2/\\sigma^2),$ where $x$ is the distance and $\\sigma$ is a scale parameter to be estimated. These simple assumptions permit the estimation of the population size $N$ as well as density $D.$\n",
    "\n",
    "Following @hooten2019, Chapter 24 and @royle2008, Chapter 7, I use the impala data from @burnham1980, who credits P. Hemingway with the dataset. In this dataset, 73 impalas were observed along a 60km transect. The distance values below are the perpendicular distances, in meters, from the transect. "
   ]
  },
  {
   "cell_type": "code",
   "execution_count": null,
   "metadata": {},
   "outputs": [],
   "source": [
    "#| fig-cap: Histogram of the number of detected impalas at varying distances.\n",
    "#| label: fig-hist\n",
    "\n",
    "import seaborn as sns\n",
    "import pymc as pm\n",
    "import pytensor.tensor as pt\n",
    "import matplotlib.pyplot as plt\n",
    "import arviz as az\n",
    "import numpy as np\n",
    "\n",
    "# plotting defaults\n",
    "plt.style.use('fivethirtyeight')\n",
    "plt.rcParams['axes.facecolor'] = 'white'\n",
    "plt.rcParams['figure.facecolor'] = 'white'\n",
    "plt.rcParams['axes.spines.left'] = False\n",
    "plt.rcParams['axes.spines.right'] = False\n",
    "plt.rcParams['axes.spines.top'] = False\n",
    "plt.rcParams['axes.spines.bottom'] = False\n",
    "sns.set_palette(\"tab10\")\n",
    "\n",
    "# hyper parameters\n",
    "M = 500\n",
    "U_X = 400\n",
    "U_SIGMA = 400\n",
    "\n",
    "# burnham impala dataset with distances in m\n",
    "x_observed = np.array(\n",
    "    [71.933980, 26.047227, 58.474341, 92.349221, 163.830409, 84.523652\n",
    "    ,163.830409, 157.330098, 22.267696, 72.105330, 86.986979, 50.795047\n",
    "    ,0.000000, 73.135370,  0.000000, 128.557522, 163.830409,  71.845104\n",
    "    ,30.467336, 71.073909, 150.960702, 68.829172, 90.000000, 64.983827\n",
    "    ,165.690874, 38.008322, 378.207430, 78.146226, 42.127052, 0.000000\n",
    "    ,400.000000, 175.386612, 30.467336, 35.069692, 86.036465, 31.686029\n",
    "    ,200.000000, 271.892336, 26.047227, 76.604444, 41.042417, 200.000000\n",
    "    ,86.036465, 0.000000, 93.969262, 55.127471, 10.458689, 84.523652\n",
    "    ,0.000000, 77.645714, 0.000000, 96.418141, 0.000000, 64.278761\n",
    "    ,187.938524, 0.000000, 160.696902, 150.453756, 63.603607, 193.185165\n",
    "    ,106.066017, 114.906666, 143.394109, 128.557522, 245.745613, 123.127252\n",
    "    ,123.127252, 153.208889, 143.394109, 34.202014, 96.418141, 259.807621\n",
    "    ,8.715574]\n",
    ")\n",
    "\n",
    "# plot the distances \n",
    "fig, ax = plt.subplots(figsize=(4,4))\n",
    "\n",
    "ax.hist(x_observed, edgecolor='white')\n",
    "\n",
    "ax.set_title('Hemingway Impala Data')\n",
    "ax.set_ylabel('Number of detections')\n",
    "ax.set_xlabel('Distance (m)')\n",
    "\n",
    "plt.show()"
   ]
  },
  {
   "cell_type": "markdown",
   "metadata": {},
   "source": [
    "Again, we treat this as a zero-inflated binomial model using PX-DA. The trick for doing so is to create a binary vector of length $M$, $y,$ that represents whether the individual was detected during the study. Then, combine the indicator with the distance vector $x$ to create a the full dataset $(x,y).$"
   ]
  },
  {
   "cell_type": "code",
   "execution_count": null,
   "metadata": {},
   "outputs": [],
   "source": [
    "n = len(x_observed)\n",
    "unobserved_count = M - n\n",
    "zeros = np.zeros(unobserved_count)\n",
    "\n",
    "y = np.ones(n)\n",
    "y_augmented = np.concatenate((y, zeros))"
   ]
  },
  {
   "cell_type": "markdown",
   "metadata": {},
   "source": [
    "The issue is that $x$ is unobserved for the undetected individuals. To work around this, we put a uniform prior on the unobserved $x,$ i.e., $x \\sim \\text{Uniform}(0, U_x).$ With this \"complete\" $x,$ we can construct the detection function $p$ for the unobserved individuals."
   ]
  },
  {
   "cell_type": "code",
   "execution_count": null,
   "metadata": {},
   "outputs": [],
   "source": [
    "#| fig-cap: Visual representation of the distance sampling model.\n",
    "#| label: fig-dist\n",
    "\n",
    "with pm.Model() as distance:\n",
    "    \n",
    "    psi = pm.Beta('psi', 0.001, 1)\n",
    "    sigma = pm.Uniform('sigma', 0, U_SIGMA)\n",
    "    \n",
    "    x_unobserved = pm.Uniform('x_unobserved', 0, U_X, shape=unobserved_count)\n",
    "    x_complete = pt.concatenate((x_observed, x_unobserved))\n",
    "\n",
    "    p = pm.Deterministic('p', pm.math.exp(- x_complete ** 2 / sigma ** 2))\n",
    "    \n",
    "    pm.ZeroInflatedBinomial('y', p=p, psi=psi, n=1, observed=y_augmented)\n",
    "\n",
    "pm.model_to_graphviz(distance)"
   ]
  },
  {
   "cell_type": "code",
   "execution_count": null,
   "metadata": {},
   "outputs": [],
   "source": [
    "with distance:\n",
    "    distance_idata = pm.sample()"
   ]
  },
  {
   "cell_type": "code",
   "execution_count": null,
   "metadata": {},
   "outputs": [],
   "source": [
    "#| fig-cap: Traceplots for the distance sampling model.\n",
    "#| label: fig-trace\n",
    "\n",
    "az.plot_trace(\n",
    "    distance_idata, \n",
    "    figsize=(10,4),\n",
    "    var_names=['psi', 'sigma']\n",
    ");"
   ]
  },
  {
   "cell_type": "markdown",
   "metadata": {},
   "source": [
    "This model samples slower than the models in the other notebooks, presumably because of the unobserved $x.$ As in the closed capture-recapture notebook, we will have to simulate the posterior for $N$ using the posterior distribution of $\\psi$ and $M.$ "
   ]
  },
  {
   "cell_type": "code",
   "execution_count": null,
   "metadata": {},
   "outputs": [],
   "source": [
    "RNG = np.random.default_rng()\n",
    "\n",
    "posterior = az.extract(distance_idata)\n",
    "psi_samples = posterior.psi.to_numpy()\n",
    "p_samples = posterior.p.to_numpy()\n",
    "\n",
    "not_p = (1 - p_samples[n:])\n",
    "p_included = (not_p * psi_samples) / (not_p * psi_samples + (1 - psi_samples))\n",
    "n_undetected = RNG.binomial(1, p_included).sum(axis=0)\n",
    "N_samples = n + n_undetected"
   ]
  },
  {
   "cell_type": "code",
   "execution_count": null,
   "metadata": {},
   "outputs": [],
   "source": [
    "#| fig-cap: Posterior distributions for $N$ and $\\sigma.$ Estimates from @royle2008 are shown with vertical lines.\n",
    "#| label: fig-posteriors\n",
    "\n",
    "sigma_samples = posterior.sigma.to_numpy()\n",
    "\n",
    "# plot the results\n",
    "fig, (ax0, ax1) = plt.subplots(1, 2, sharey=True, figsize=(8,4))\n",
    "\n",
    "# histograms of the posteriors\n",
    "ax0.hist(N_samples, edgecolor='white', bins=30)\n",
    "ax1.hist(sigma_samples, edgecolor='white', bins=30)\n",
    "\n",
    "# show the abundance dist in terms of M\n",
    "# ax0.set_xlim((100, M))\n",
    "\n",
    "# axes labels \n",
    "ax0.set_xlabel(r'Abundance $N$')\n",
    "ax0.set_ylabel('Number of samples')\n",
    "ax1.set_xlabel(r'Detection range $\\sigma$')\n",
    "\n",
    "# add the point estimates\n",
    "N_hat = N_samples.mean()\n",
    "sigma_hat = sigma_samples.mean()\n",
    "ax0.text(200, 350, rf'$\\hat{{N}}$={N_hat:.1f}', ha='left', va='center')\n",
    "ax1.text(205, 350, rf'$\\hat{{\\sigma}}$={sigma_hat:.1f}', ha='left', va='center')\n",
    "\n",
    "# the results from royle and dorazio (2008) for comparison\n",
    "N_hat_royle = 179.9\n",
    "sigma_hat_royle = 187\n",
    "\n",
    "ax0.axvline(N_hat_royle, linestyle='--', linewidth=3, color='C1')\n",
    "ax1.axvline(sigma_hat_royle, linestyle='--', linewidth=3, color='C1')\n",
    "\n",
    "plt.show()"
   ]
  },
  {
   "cell_type": "markdown",
   "metadata": {},
   "source": [
    "The model shows a high level of agreement with @royle2008, Chapter 7, although note that they reported $\\sigma$ in terms of 100m units. It is also possible to plot the posterior distribution of the detection function."
   ]
  },
  {
   "cell_type": "code",
   "execution_count": null,
   "metadata": {},
   "outputs": [],
   "source": [
    "#| fig-cap: Posterior distribution for the detection function. The line represents the posterior mean while the shaded area is the 96% interval.\n",
    "#| label: fig-func\n",
    "\n",
    "xx = np.arange(400)\n",
    "\n",
    "def det_func(x, s):\n",
    "    return np.exp(- (x ** 2) / (s ** 2))\n",
    "\n",
    "p_samps = np.array([det_func(xx, s) for s in sigma_samples])\n",
    "\n",
    "p_mean = p_samps.mean(axis=0)\n",
    "p_low = np.quantile(p_samps, 0.02, axis=0)\n",
    "p_high = np.quantile(p_samps, 0.98, axis=0)\n",
    "\n",
    "fig, ax = plt.subplots(figsize=(5,4))\n",
    "\n",
    "ax.plot(xx, p_mean, '-')\n",
    "ax.fill_between(xx, p_low, p_high, alpha=0.2)\n",
    "\n",
    "ax.set_title('Detection function')\n",
    "ax.set_ylabel(r'$p$')\n",
    "ax.set_xlabel(r'Distance (m)')\n",
    "\n",
    "plt.show()"
   ]
  }
 ],
 "metadata": {
  "kernelspec": {
   "display_name": "Python (pymc)",
   "language": "python",
   "name": "pymc"
  },
  "language_info": {
   "codemirror_mode": {
    "name": "ipython",
    "version": 3
   },
   "file_extension": ".py",
   "mimetype": "text/x-python",
   "name": "python",
   "nbconvert_exporter": "python",
   "pygments_lexer": "ipython3",
   "version": "3.12.7"
  }
 },
 "nbformat": 4,
 "nbformat_minor": 4
}
